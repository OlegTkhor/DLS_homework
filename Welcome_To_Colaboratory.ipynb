{
  "cells": [
    {
      "cell_type": "markdown",
      "metadata": {
        "id": "view-in-github",
        "colab_type": "text"
      },
      "source": [
        "<a href=\"https://colab.research.google.com/github/OlegTkhor/DLS_homework/blob/main/Welcome_To_Colaboratory.ipynb\" target=\"_parent\"><img src=\"https://colab.research.google.com/assets/colab-badge.svg\" alt=\"Open In Colab\"/></a>"
      ]
    },
    {
      "cell_type": "code",
      "source": [
        "from torch.nn.modules.pooling import MaxPool2d\n",
        "import torch\n",
        "import torch.nn as nn\n",
        "\n",
        "architecture_config = [\n",
        "      #Tuple : (kernel_size, num_filters, stride, padding)\n",
        "      (7,64,2,3),\n",
        "      \"M\",\n",
        "      (3,192,1,1),\n",
        "      \"M\",\n",
        "      (1,128,1,0),\n",
        "      (3,256,1,1),\n",
        "      (1,256,1,0),\n",
        "      (3,512,1,1),\n",
        "      \"M\",\n",
        "      #List: tuple, tuple, how many to repeat\n",
        "      [(1,256,1,0),(3,512,1,1),4],\n",
        "      (1,512,1,0),\n",
        "      (3,1024,1,1),\n",
        "      \"M\",\n",
        "      [(1,512,1,0),(3,1024,1,1),2],\n",
        "      (3,1024,1,1),\n",
        "      (3,1024,2,1),\n",
        "      (3,1024,1,1),\n",
        "      (3,1024,1,1),\n",
        "]\n",
        "\n",
        "class CNNBlock(nn.Module):\n",
        "  def __init__(self, in_channels, out_channels, **kwargs): \n",
        "    super(CNNBlock, self).__init__()\n",
        "    self.conv = nn.Conv2d(in_channels, out_channels, bias=False, **kwargs)\n",
        "    self.batchnorm = nn.BatchNorm2d(out_channels)\n",
        "    self.leakyrelu = nn.LeakyReLU(0.1)\n",
        "  def forward(self, x):\n",
        "    return self.leakyrelu(self.batchnorm(self.conv(x)))\n",
        "\n",
        "class Yolov1(nn.Module):\n",
        "  def __init__(self, in_channels=3):\n",
        "      super(Yolov1, self).__init__()\n",
        "      self.achitecture = architecture_config\n",
        "      self.in_channels = in_channels\n",
        "      self.darknet =self._createconv_layers(self.achitecture)\n",
        "      self.fcs = self._create_fcs(**kwargs)\n",
        "  def forward(self,x):\n",
        "    x = self.darknet(x)\n",
        "    return self.fcs(torch.flatten(x, start_dim=1))\n",
        "  def _createconv_layers(self, achitecture):\n",
        "    layers = []\n",
        "    in_channels = self.in_channels\n",
        "    for x in achitecture:\n",
        "      if type(x) == tuple:\n",
        "        layers += [CNNBlock(\n",
        "            in_channels, out_channels=x[1], kernel_size=x[0], stride=x[2], padding=x[3]\n",
        "            )]\n",
        "      elif type(x) == str:\n",
        "        layers += [nn.MaxPool2d(kernelsize=2, stride=2)]\n",
        "      elif type(x) == list:\n",
        "        conv1 = x[0]\n",
        "        conv2 = x[1]\n",
        "        num_repeats = x[2]\n",
        "        for _ in range(num_repeats):\n",
        "          layers += [CNNBlock(\n",
        "            in_channels, \n",
        "            out_channels=conv1[1],\n",
        "            kernel_size=conv1[0], \n",
        "            stride=conv1[2], \n",
        "            padding=conv1[3])]\n",
        "          layers += [CNNBlock(\n",
        "            conv1[1], \n",
        "            out_channels=conv2[1],\n",
        "            kernel_size=conv2[0], \n",
        "            stride=conv2[2], \n",
        "            padding=conv2[3])]\n",
        "          in_channels = con2[1]\n",
        "      return nn.Sequential(*layers)\n",
        "          \n",
        "          \n",
        "\n",
        "    \n",
        "        \n"
      ],
      "metadata": {
        "id": "NbKECc1v5vI8"
      },
      "execution_count": 4,
      "outputs": []
    }
  ],
  "metadata": {
    "colab": {
      "collapsed_sections": [],
      "name": "Welcome To Colaboratory",
      "toc_visible": true,
      "provenance": [],
      "include_colab_link": true
    },
    "kernelspec": {
      "display_name": "Python 3",
      "name": "python3"
    }
  },
  "nbformat": 4,
  "nbformat_minor": 0
}